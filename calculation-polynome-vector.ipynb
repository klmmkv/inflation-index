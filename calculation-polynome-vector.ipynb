{
 "cells": [
  {
   "cell_type": "code",
   "execution_count": 10,
   "metadata": {},
   "outputs": [
    {
     "name": "stdout",
     "output_type": "stream",
     "text": [
      "[1, 2011, 4044121, 8132727331, 16354914662641]\n",
      "[-6.84441059e+11  1.35990735e+09 -1.01324341e+06  3.35533333e+02\n",
      " -4.16666667e-02]\n",
      "2015\n",
      "[1, 2015, 4060225, 8181353375, 16485427050625]\n",
      "0.5\n"
     ]
    },
    {
     "data": {
      "image/png": "[encoded data removed]",
      "text/plain": [
       "<Figure size 432x288 with 1 Axes>"
      ]
     },
     "metadata": {
      "needs_background": "light"
     },
     "output_type": "display_data"
    }
   ],
   "source": [
    "import numpy as np\n",
    "import pandas as pd\n",
    "from scipy. integrate import odeint\n",
    "import matplotlib.pyplot as plt\n",
    "\n",
    "def SystemSolve(data,free):\n",
    "    return np.linalg.solve(data,free)\n",
    "\n",
    "def PolynomeVector(value,dim):\n",
    "    X = 1\n",
    "    S = [X]\n",
    "    for i in range(dim - 1):\n",
    "        X *= value\n",
    "        S.append(X)\n",
    "    return S\n",
    "\n",
    "def PolynomeValue(data,value):\n",
    "    return data.dot(PolynomeVector(value))\n",
    "\n",
    "def ValueCalc(data,value):\n",
    "    return data.dot(value)\n",
    "\n",
    "def DataCalc(data,dates):\n",
    "    A = []\n",
    "    for date in dates:\n",
    "        B = PolynomeVector(date, len(dates))\n",
    "        A.append(B)\n",
    "    A = np.array(A)\n",
    "    dat = np.array(data)\n",
    "    X = SystemSolve(A,data)\n",
    "    return X\n",
    "\n",
    "dates = [2011,2012,2013,2014,2015]\n",
    "inf = [2.1, 2, 1.4, 1, 0.5]\n",
    "BMI = [3.4, 3.53, 3.64, 3.67, 3.63]\n",
    "\n",
    "print(PolynomeVector(dates[0],len(dates)))\n",
    "A = DataCalc(inf,dates)\n",
    "print(A)\n",
    "z = int(input())\n",
    "U = PolynomeVector(z,len(dates))\n",
    "print(U)\n",
    "U= np.array(U)\n",
    "A= np.array(A)\n",
    "F = U.dot(A)\n",
    "print(F)\n",
    "plt.plot(dates,inf,'-sr',linewidth = 3)\n",
    "#plt.plot(dates,BMI,'-sr',linewidth = 3)\n",
    "#plt.plot(inf,BMI,'-sr',linewidth = 3)\n",
    "\n",
    "def dydt(y):\n",
    "    return Polynomevector(y,len(y)).dot(A) \n",
    "\n",
    "y0 = inf[0]"
   ]
  },
  {
   "cell_type": "code",
   "execution_count": null,
   "metadata": {},
   "outputs": [],
   "source": []
  }
 ],
 "metadata": {
  "kernelspec": {
   "display_name": "Python 3",
   "language": "python",
   "name": "python3"
  },
  "language_info": {
   "codemirror_mode": {
    "name": "ipython",
    "version": 3
   },
   "file_extension": ".py",
   "mimetype": "text/x-python",
   "name": "python",
   "nbconvert_exporter": "python",
   "pygments_lexer": "ipython3",
   "version": "3.8.2"
  }
 },
 "nbformat": 4,
 "nbformat_minor": 4
}
